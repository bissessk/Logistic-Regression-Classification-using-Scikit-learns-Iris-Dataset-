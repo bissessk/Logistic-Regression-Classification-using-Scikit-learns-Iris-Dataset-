{
 "cells": [
  {
   "cell_type": "markdown",
   "metadata": {},
   "source": [
    "# Logistic Regression Model\n",
    "# Kieran Bissessar"
   ]
  },
  {
   "cell_type": "code",
   "execution_count": 42,
   "metadata": {},
   "outputs": [],
   "source": [
    "import pandas as pd;\n",
    "import matplotlib.pyplot as plt;\n",
    "from sklearn.linear_model import LogisticRegression;\n",
    "from sklearn import datasets;\n",
    "import numpy as np;"
   ]
  },
  {
   "cell_type": "code",
   "execution_count": 43,
   "metadata": {},
   "outputs": [],
   "source": [
    "iris = datasets.load_iris();\n",
    "X = iris.data;\n",
    "y = iris.target;\n"
   ]
  },
  {
   "cell_type": "markdown",
   "metadata": {},
   "source": [
    "## Six Cases (2 features at a Time)"
   ]
  },
  {
   "cell_type": "code",
   "execution_count": 44,
   "metadata": {},
   "outputs": [],
   "source": [
    "X_ab = iris.data[:, [0, 1]]; # sepal length vs sepal width\n",
    "X_bc = iris.data[:, [1, 2]]; # sepal width  vs petal length\n",
    "X_cd = iris.data[:, [2, 3]]; # petal length vs petal width \n",
    "X_ac = iris.data[:, [0, 2]]; # sepal length vs petal length\n",
    "X_ad = iris.data[:, [0, 3]]; # sepal length vs petal width\n",
    "X_bd = iris.data[:, [1, 3]]; # sepal width  vs petal width"
   ]
  },
  {
   "cell_type": "code",
   "execution_count": 45,
   "metadata": {},
   "outputs": [],
   "source": [
    "from sklearn.preprocessing import scale\n",
    "\n",
    "Xs_ab = scale(X_ab);\n",
    "Xs_bc = scale(X_bc);\n",
    "Xs_cd = scale(X_cd);\n",
    "Xs_ac = scale(X_ac);\n",
    "Xs_ad = scale(X_ad);\n",
    "Xs_bd = scale(X_bd);"
   ]
  },
  {
   "cell_type": "code",
   "execution_count": 46,
   "metadata": {},
   "outputs": [],
   "source": [
    "lr_ab = LogisticRegression(solver = \"liblinear\", C=1.0);\n",
    "lr_ab.fit(Xs_ab, y);\n",
    "\n",
    "lr_bc = LogisticRegression(solver = \"liblinear\", C=1.0);\n",
    "lr_bc.fit(Xs_bc, y);\n",
    "\n",
    "lr_cd = LogisticRegression(solver = \"liblinear\", C=1.0);\n",
    "lr_cd.fit(Xs_cd, y);\n",
    "\n",
    "lr_ac = LogisticRegression(solver = \"liblinear\", C=1.0);\n",
    "lr_ac.fit(Xs_ac, y);\n",
    "\n",
    "lr_ad = LogisticRegression(solver = \"liblinear\", C=1.0);\n",
    "lr_ad.fit(Xs_ad, y);\n",
    "\n",
    "lr_bd = LogisticRegression(solver = \"liblinear\", C=1.0);\n",
    "lr_bd.fit(Xs_bd, y);"
   ]
  },
  {
   "cell_type": "code",
   "execution_count": 47,
   "metadata": {},
   "outputs": [
    {
     "name": "stdout",
     "output_type": "stream",
     "text": [
      "accuaracy ab :  0.7933333333333333\n",
      "accuaracy bc :  0.86\n",
      "accuaracy cd :  0.94\n",
      "accuaracy ac :  0.8733333333333333\n",
      "accuaracy ad :  0.8866666666666667\n",
      "accuaracy bd :  0.8933333333333333\n"
     ]
    }
   ],
   "source": [
    "y_ab_hat = lr_ab.predict(Xs_ab);\n",
    "accuracy_ab = np.mean(y_ab_hat == y);\n",
    "print(\"accuaracy ab : \", accuracy_ab);\n",
    "\n",
    "y_bc_hat = lr_bc.predict(Xs_bc);\n",
    "accuracy_bc = np.mean(y_bc_hat == y);\n",
    "print(\"accuaracy bc : \", accuracy_bc);\n",
    "\n",
    "y_cd_hat = lr_cd.predict(Xs_cd);\n",
    "accuracy_cd = np.mean(y_cd_hat == y);\n",
    "print(\"accuaracy cd : \", accuracy_cd);\n",
    "\n",
    "y_ac_hat = lr_ac.predict(Xs_ac);\n",
    "accuracy_ac = np.mean(y_ac_hat == y);\n",
    "print(\"accuaracy ac : \", accuracy_ac);\n",
    "\n",
    "y_ad_hat = lr_ad.predict(Xs_ad);\n",
    "accuracy_ad = np.mean(y_ad_hat == y);\n",
    "print(\"accuaracy ad : \", accuracy_ad);\n",
    "\n",
    "y_bd_hat = lr_bd.predict(Xs_bd);\n",
    "accuracy_bd = np.mean(y_bd_hat == y);\n",
    "print(\"accuaracy bd : \", accuracy_bd);"
   ]
  },
  {
   "cell_type": "markdown",
   "metadata": {},
   "source": [
    "## 4 Cases (3 features at a Time)"
   ]
  },
  {
   "cell_type": "code",
   "execution_count": 48,
   "metadata": {},
   "outputs": [],
   "source": [
    "X_abc = iris.data[:, [0, 1, 2]];\n",
    "X_acd = iris.data[:, [0, 2, 3]];\n",
    "X_abd = iris.data[:, [0, 1, 3]];\n",
    "X_bcd = iris.data[:, [1, 2, 3]];"
   ]
  },
  {
   "cell_type": "code",
   "execution_count": 49,
   "metadata": {},
   "outputs": [],
   "source": [
    "Xs_abc = scale(X_abc);\n",
    "Xs_acd = scale(X_acd);\n",
    "Xs_abd = scale(X_abd);\n",
    "Xs_bcd = scale(X_bcd);"
   ]
  },
  {
   "cell_type": "code",
   "execution_count": 50,
   "metadata": {},
   "outputs": [],
   "source": [
    "lr_abc = LogisticRegression(solver = \"liblinear\",C=1.0);\n",
    "lr_abc.fit(Xs_abc, y);\n",
    "\n",
    "lr_acd = LogisticRegression(solver = \"liblinear\",C=1.0);\n",
    "lr_acd.fit(Xs_acd, y);\n",
    "\n",
    "lr_abd = LogisticRegression(solver = \"liblinear\",C=1.0);\n",
    "lr_abd.fit(Xs_abd, y);\n",
    "\n",
    "lr_bcd = LogisticRegression(solver = \"liblinear\",C=1.0);\n",
    "lr_bcd.fit(Xs_bcd, y);"
   ]
  },
  {
   "cell_type": "code",
   "execution_count": 51,
   "metadata": {},
   "outputs": [
    {
     "name": "stdout",
     "output_type": "stream",
     "text": [
      "accuaracy abc :  0.8666666666666667\n",
      "accuaracy acd :  0.9133333333333333\n",
      "accuaracy abd :  0.9066666666666666\n",
      "accuaracy bcd :  0.92\n"
     ]
    }
   ],
   "source": [
    "y_abc_hat = lr_abc.predict(Xs_abc);\n",
    "accuracy_abc = np.mean(y_abc_hat == y);\n",
    "print(\"accuaracy abc : \", accuracy_abc);\n",
    "\n",
    "y_acd_hat = lr_acd.predict(Xs_acd);\n",
    "accuracy_acd = np.mean(y_acd_hat == y);\n",
    "print(\"accuaracy acd : \", accuracy_acd);\n",
    "\n",
    "y_abd_hat = lr_abd.predict(Xs_abd);\n",
    "accuracy_abd = np.mean(y_abd_hat == y);\n",
    "print(\"accuaracy abd : \", accuracy_abd);\n",
    "\n",
    "y_bcd_hat = lr_bcd.predict(Xs_bcd);\n",
    "accuracy_bcd = np.mean(y_bcd_hat == y);\n",
    "print(\"accuaracy bcd : \", accuracy_bcd);"
   ]
  },
  {
   "cell_type": "markdown",
   "metadata": {},
   "source": [
    "## 1 Case (4 features at a Time)"
   ]
  },
  {
   "cell_type": "code",
   "execution_count": 52,
   "metadata": {},
   "outputs": [],
   "source": [
    "X_abcd = iris.data[:, [0, 1, 2, 3]];"
   ]
  },
  {
   "cell_type": "code",
   "execution_count": 53,
   "metadata": {},
   "outputs": [],
   "source": [
    "Xs_abcd = scale(X_abcd);"
   ]
  },
  {
   "cell_type": "code",
   "execution_count": 54,
   "metadata": {},
   "outputs": [],
   "source": [
    "lr_abcd = LogisticRegression(solver = \"liblinear\", C=1.0);\n",
    "lr_abcd.fit(Xs_abcd, y);"
   ]
  },
  {
   "cell_type": "code",
   "execution_count": 55,
   "metadata": {},
   "outputs": [
    {
     "name": "stdout",
     "output_type": "stream",
     "text": [
      "accuaracy abcd :  0.9266666666666666\n"
     ]
    }
   ],
   "source": [
    "y_abcd_hat = lr_abcd.predict(Xs_abcd);\n",
    "accuracy_abcd = np.mean(y_abcd_hat == y);\n",
    "print(\"accuaracy abcd : \", accuracy_abcd);\n",
    "# print(lr_abcd.score(Xs_abcd,y)) # could also use this to determine accuracy"
   ]
  },
  {
   "cell_type": "markdown",
   "metadata": {},
   "source": [
    "**SUMMARY :** The case with all 4 features used had the highest accuracy. The cases using three features were more accurate than the cases using 2 features. Also it seems that teh number of iterations are the same no matter the number of features used."
   ]
  },
  {
   "cell_type": "code",
   "execution_count": 56,
   "metadata": {},
   "outputs": [
    {
     "name": "stdout",
     "output_type": "stream",
     "text": [
      "Accuracies : \n",
      "accuaracy ab :  0.7933333333333333\n",
      "accuaracy bc :  0.86\n",
      "accuaracy cd :  0.94\n",
      "accuaracy ac :  0.8733333333333333\n",
      "accuaracy ad :  0.8866666666666667\n",
      "accuaracy bd :  0.8933333333333333\n",
      "\n",
      "accuaracy abc :  0.8666666666666667\n",
      "accuaracy acd :  0.9133333333333333\n",
      "accuaracy abd :  0.9066666666666666\n",
      "accuaracy bcd :  0.92\n",
      "\n",
      "accuaracy abcd :  0.9266666666666666\n"
     ]
    }
   ],
   "source": [
    "# Accuracies\n",
    "print(\"Accuracies : \")\n",
    "print(\"accuaracy ab : \", accuracy_ab);\n",
    "print(\"accuaracy bc : \", accuracy_bc);\n",
    "print(\"accuaracy cd : \", accuracy_cd);\n",
    "print(\"accuaracy ac : \", accuracy_ac);\n",
    "print(\"accuaracy ad : \", accuracy_ad);\n",
    "print(\"accuaracy bd : \", accuracy_bd);\n",
    "print();\n",
    "print(\"accuaracy abc : \", accuracy_abc);\n",
    "print(\"accuaracy acd : \", accuracy_acd);\n",
    "print(\"accuaracy abd : \", accuracy_abd);\n",
    "print(\"accuaracy bcd : \", accuracy_bcd);\n",
    "print();\n",
    "print(\"accuaracy abcd : \", accuracy_abcd);"
   ]
  },
  {
   "cell_type": "code",
   "execution_count": 57,
   "metadata": {},
   "outputs": [
    {
     "name": "stdout",
     "output_type": "stream",
     "text": [
      "Number of Iterations : \n",
      "ab : [6]\n",
      "bc : [6]\n",
      "cd : [6]\n",
      "ac : [6]\n",
      "ad : [6]\n",
      "bd : [6]\n",
      "\n",
      "abc : [6]\n",
      "acd : [7]\n",
      "abd : [6]\n",
      "bcd : [6]\n",
      "\n",
      "abcd : [6]\n"
     ]
    }
   ],
   "source": [
    "# Number of Iterations\n",
    "\n",
    "print(\"Number of Iterations : \")\n",
    "print(\"ab :\", lr_ab.n_iter_);\n",
    "print(\"bc :\", lr_bc.n_iter_);\n",
    "print(\"cd :\", lr_cd.n_iter_);\n",
    "print(\"ac :\", lr_ac.n_iter_);\n",
    "print(\"ad :\", lr_ad.n_iter_);\n",
    "print(\"bd :\", lr_bd.n_iter_);\n",
    "print();\n",
    "print(\"abc :\", lr_abc.n_iter_);\n",
    "print(\"acd :\", lr_acd.n_iter_);\n",
    "print(\"abd :\", lr_abd.n_iter_);\n",
    "print(\"bcd :\", lr_bcd.n_iter_);\n",
    "print();\n",
    "print(\"abcd :\", lr_abcd.n_iter_);\n"
   ]
  },
  {
   "cell_type": "markdown",
   "metadata": {},
   "source": [
    "## L1 Regularization (instead of default = L2)"
   ]
  },
  {
   "cell_type": "code",
   "execution_count": 58,
   "metadata": {},
   "outputs": [],
   "source": [
    "lr_ab = LogisticRegression(penalty = 'l1', solver = \"liblinear\", C=1.0);\n",
    "lr_ab.fit(Xs_ab, y);\n",
    "\n",
    "lr_bc = LogisticRegression(penalty = 'l1', solver = \"liblinear\", C=1.0);\n",
    "lr_bc.fit(Xs_bc, y);\n",
    "\n",
    "lr_cd = LogisticRegression(penalty = 'l1', solver = \"liblinear\", C=1.0);\n",
    "lr_cd.fit(Xs_cd, y);\n",
    "\n",
    "lr_ac = LogisticRegression(penalty = 'l1', solver = \"liblinear\", C=1.0);\n",
    "lr_ac.fit(Xs_ac, y);\n",
    "\n",
    "lr_ad = LogisticRegression(penalty = 'l1', solver = \"liblinear\", C=1.0);\n",
    "lr_ad.fit(Xs_ad, y);\n",
    "\n",
    "lr_bd = LogisticRegression(penalty = 'l1', solver = \"liblinear\", C=1.0);\n",
    "lr_bd.fit(Xs_bd, y);\n",
    "\n",
    "\n",
    "\n",
    "lr_abc = LogisticRegression(penalty = 'l1', solver = \"liblinear\", C=1.0);\n",
    "lr_abc.fit(Xs_abc, y);\n",
    "\n",
    "lr_acd = LogisticRegression(penalty = 'l1', solver = \"liblinear\", C=1.0);\n",
    "lr_acd.fit(Xs_acd, y);\n",
    "\n",
    "lr_abd = LogisticRegression(penalty = 'l1', solver = \"liblinear\", C=1.0);\n",
    "lr_abd.fit(Xs_abd, y);\n",
    "\n",
    "lr_bcd = LogisticRegression(penalty = 'l1', solver = \"liblinear\", C=1.0);\n",
    "lr_bcd.fit(Xs_bcd, y);\n",
    "\n",
    "\n",
    "\n",
    "lr_abcd = LogisticRegression(penalty = 'l1', solver = \"liblinear\", C=1.0);\n",
    "lr_abcd.fit(Xs_abcd, y);\n"
   ]
  },
  {
   "cell_type": "code",
   "execution_count": 59,
   "metadata": {},
   "outputs": [
    {
     "name": "stdout",
     "output_type": "stream",
     "text": [
      "Accuracies : \n",
      "accuaracy ab :  0.8\n",
      "accuaracy bc :  0.9133333333333333\n",
      "accuaracy cd :  0.9466666666666667\n",
      "accuaracy ac :  0.9466666666666667\n",
      "accuaracy ad :  0.9466666666666667\n",
      "accuaracy bd :  0.9466666666666667\n",
      "\n",
      "accuaracy abc :  0.9266666666666666\n",
      "accuaracy acd :  0.9466666666666667\n",
      "accuaracy abd :  0.9466666666666667\n",
      "accuaracy bcd :  0.9466666666666667\n",
      "\n",
      "accuaracy abcd :  0.94\n",
      "\n",
      "Number of Iterations : \n",
      "ab : [13]\n",
      "bc : [19]\n",
      "cd : [22]\n",
      "ac : [22]\n",
      "ad : [19]\n",
      "bd : [18]\n",
      "\n",
      "abc : [26]\n",
      "acd : [27]\n",
      "abd : [15]\n",
      "bcd : [21]\n",
      "\n",
      "abcd : [23]\n"
     ]
    }
   ],
   "source": [
    "print(\"Accuracies : \");\n",
    "y_ab_hat = lr_ab.predict(Xs_ab);\n",
    "accuracy_ab = np.mean(y_ab_hat == y);\n",
    "print(\"accuaracy ab : \", accuracy_ab);\n",
    "\n",
    "y_bc_hat = lr_bc.predict(Xs_bc);\n",
    "accuracy_bc = np.mean(y_bc_hat == y);\n",
    "print(\"accuaracy bc : \", accuracy_bc);\n",
    "\n",
    "y_cd_hat = lr_cd.predict(Xs_cd);\n",
    "accuracy_cd = np.mean(y_cd_hat == y);\n",
    "print(\"accuaracy cd : \", accuracy_cd);\n",
    "\n",
    "y_ac_hat = lr_ac.predict(Xs_ac);\n",
    "accuracy_ac = np.mean(y_ac_hat == y);\n",
    "print(\"accuaracy ac : \", accuracy_ac);\n",
    "\n",
    "y_ad_hat = lr_ad.predict(Xs_ad);\n",
    "accuracy_ad = np.mean(y_ad_hat == y);\n",
    "print(\"accuaracy ad : \", accuracy_ad);\n",
    "\n",
    "y_bd_hat = lr_bd.predict(Xs_bd);\n",
    "accuracy_bd = np.mean(y_bd_hat == y);\n",
    "print(\"accuaracy bd : \", accuracy_bd);\n",
    "\n",
    "\n",
    "print();\n",
    "y_abc_hat = lr_abc.predict(Xs_abc);\n",
    "accuracy_abc = np.mean(y_abc_hat == y);\n",
    "print(\"accuaracy abc : \", accuracy_abc);\n",
    "\n",
    "y_acd_hat = lr_acd.predict(Xs_acd);\n",
    "accuracy_acd = np.mean(y_acd_hat == y);\n",
    "print(\"accuaracy acd : \", accuracy_acd);\n",
    "\n",
    "y_abd_hat = lr_abd.predict(Xs_abd);\n",
    "accuracy_abd = np.mean(y_abd_hat == y);\n",
    "print(\"accuaracy abd : \", accuracy_abd);\n",
    "\n",
    "y_bcd_hat = lr_bcd.predict(Xs_bcd);\n",
    "accuracy_bcd = np.mean(y_bcd_hat == y);\n",
    "print(\"accuaracy bcd : \", accuracy_bcd);\n",
    "\n",
    "print();\n",
    "y_abcd_hat = lr_abcd.predict(Xs_abcd);\n",
    "accuracy_abcd = np.mean(y_abcd_hat == y);\n",
    "print(\"accuaracy abcd : \", accuracy_abcd);\n",
    "\n",
    "print();\n",
    "print(\"Number of Iterations : \");\n",
    "print(\"ab :\", lr_ab.n_iter_);\n",
    "print(\"bc :\", lr_bc.n_iter_);\n",
    "print(\"cd :\", lr_cd.n_iter_);\n",
    "print(\"ac :\", lr_ac.n_iter_);\n",
    "print(\"ad :\", lr_ad.n_iter_);\n",
    "print(\"bd :\", lr_bd.n_iter_);\n",
    "print();\n",
    "print(\"abc :\", lr_abc.n_iter_);\n",
    "print(\"acd :\", lr_acd.n_iter_);\n",
    "print(\"abd :\", lr_abd.n_iter_);\n",
    "print(\"bcd :\", lr_bcd.n_iter_);\n",
    "print();\n",
    "print(\"abcd :\", lr_abcd.n_iter_);"
   ]
  },
  {
   "cell_type": "markdown",
   "metadata": {},
   "source": [
    "**SUMMARY :*** Compared to the logicstic regression model using L2 regularization, the results using L1 regularization seem to be more accurate and more iterations were needed for convergence. Also, the number of iterations seem to increase as one uses more features. \n",
    "\n",
    "It was ensured that when comparing the regression models, that the same C value and solver was used. Liblearn was used in both cases because it supports both L1 and L2 regularization. The C-value of 1 was used to specify stronger regularization."
   ]
  },
  {
   "cell_type": "markdown",
   "metadata": {},
   "source": [
    "## Regularization Parameter , C, Variation"
   ]
  },
  {
   "cell_type": "code",
   "execution_count": 60,
   "metadata": {},
   "outputs": [
    {
     "data": {
      "image/png": "[encoded data removed]",
      "text/plain": [
       "<Figure size 432x288 with 1 Axes>"
      ]
     },
     "metadata": {
      "needs_background": "light"
     },
     "output_type": "display_data"
    }
   ],
   "source": [
    "weights, params = [], []\n",
    "\n",
    "for c in np.arange(-20, 20):\n",
    "    lr = LogisticRegression(C=10.**c, random_state=0) # L2 reg\n",
    "    lr.fit(Xs_ab, y)\n",
    "    weights.append(lr.coef_[1]) # coef_ndarray of shape (1, n_features) or (n_classes, n_features)\n",
    "    params.append(10.**c)\n",
    "\n",
    "weights = np.array(weights)\n",
    "\n",
    "plt.plot(params, weights[:, 0],\n",
    "         label='sepal length')\n",
    "plt.plot(params, weights[:, 1], linestyle='--',\n",
    "         label='sepal width')\n",
    "plt.ylabel('weight coefficient')\n",
    "plt.xlabel('C')\n",
    "plt.legend(loc='upper left')\n",
    "plt.xscale('log')\n",
    "\n",
    "plt.show()"
   ]
  },
  {
   "cell_type": "markdown",
   "metadata": {},
   "source": [
    "Regularization is used to combat overfitting (high variance) in our data and is esssential i the *Bias - Variance Tradeoff* Low values of C indicate strong regulation and higher values of C inidcate lower regulation. So, based on this plot, the weight coefficients shrink if we decrease parameter C (increase the regularization strength)."
   ]
  },
  {
   "cell_type": "markdown",
   "metadata": {},
   "source": [
    "### Regularization in Higher Dimensions"
   ]
  },
  {
   "cell_type": "code",
   "execution_count": 71,
   "metadata": {},
   "outputs": [
    {
     "name": "stdout",
     "output_type": "stream",
     "text": [
      "accuaracy abcd :  0.9733333333333334\n",
      "abcd : [25]\n"
     ]
    }
   ],
   "source": [
    "lr_abcd = LogisticRegression(C=1.0);\n",
    "lr_abcd.fit(Xs_abcd, y);\n",
    "\n",
    "y_abcd_hat = lr_abcd.predict(Xs_abcd);\n",
    "accuracy_abcd = np.mean(y_abcd_hat == y);\n",
    "print(\"accuaracy abcd : \", accuracy_abcd);\n",
    "print(\"abcd :\", lr_abcd.n_iter_);"
   ]
  },
  {
   "cell_type": "code",
   "execution_count": 72,
   "metadata": {},
   "outputs": [
    {
     "name": "stdout",
     "output_type": "stream",
     "text": [
      "accuaracy abcd :  0.9866666666666667\n",
      "abcd : [55]\n"
     ]
    }
   ],
   "source": [
    "lr_abcd = LogisticRegression(C=1000.0); # higher C\n",
    "lr_abcd.fit(Xs_abcd, y);\n",
    "\n",
    "y_abcd_hat = lr_abcd.predict(Xs_abcd);\n",
    "accuracy_abcd = np.mean(y_abcd_hat == y);\n",
    "print(\"accuaracy abcd : \", accuracy_abcd);\n",
    "print(\"abcd :\", lr_abcd.n_iter_);"
   ]
  },
  {
   "cell_type": "markdown",
   "metadata": {},
   "source": [
    "Increasing C (decreasing regularization strength) led to higher accuracy and number if iterations in the higher dimensional logistic "
   ]
  },
  {
   "cell_type": "code",
   "execution_count": 73,
   "metadata": {},
   "outputs": [
    {
     "name": "stdout",
     "output_type": "stream",
     "text": [
      "accuaracy cd :  0.9533333333333334\n",
      "cd : [18]\n"
     ]
    }
   ],
   "source": [
    "lr_cd = LogisticRegression(C=1.0);\n",
    "lr_cd.fit(Xs_cd, y);\n",
    "\n",
    "y_cd_hat = lr_cd.predict(Xs_cd);\n",
    "accuracy_cd = np.mean(y_cd_hat == y);\n",
    "print(\"accuaracy cd : \", accuracy_cd);\n",
    "print(\"cd :\", lr_cd.n_iter_);"
   ]
  },
  {
   "cell_type": "code",
   "execution_count": 74,
   "metadata": {},
   "outputs": [
    {
     "name": "stdout",
     "output_type": "stream",
     "text": [
      "accuaracy cd :  0.96\n",
      "cd : [26]\n"
     ]
    }
   ],
   "source": [
    "lr_cd = LogisticRegression(C=1000.0); # higher C\n",
    "lr_cd.fit(Xs_cd, y);\n",
    "\n",
    "y_cd_hat = lr_cd.predict(Xs_cd);\n",
    "accuracy_cd = np.mean(y_cd_hat == y);\n",
    "print(\"accuaracy cd : \", accuracy_cd);\n",
    "print(\"cd :\", lr_cd.n_iter_);"
   ]
  },
  {
   "cell_type": "markdown",
   "metadata": {},
   "source": [
    "Increasing C (decreasing regularization strength) led to higher accuracy and number of iterations in the lower dimensional logistic regression model"
   ]
  },
  {
   "cell_type": "markdown",
   "metadata": {},
   "source": [
    "**SUMMARY :** All in all, regularization is important in increasing accuracy using logistic regession models. Is primary use is to prevent overfitting (high variance) in calssifying data. On the other side of the coin, underfitting (high bias) can be present. Underfitting suggests that the model is not complex enough to capture the pattern in the training data well and therefore suffers from low performance on unseen data. Regularization helps us find a good *bias-variance tradeoff*."
   ]
  },
  {
   "cell_type": "code",
   "execution_count": null,
   "metadata": {},
   "outputs": [],
   "source": []
  }
 ],
 "metadata": {
  "kernelspec": {
   "display_name": "Python 3",
   "language": "python",
   "name": "python3"
  },
  "language_info": {
   "codemirror_mode": {
    "name": "ipython",
    "version": 3
   },
   "file_extension": ".py",
   "mimetype": "text/x-python",
   "name": "python",
   "nbconvert_exporter": "python",
   "pygments_lexer": "ipython3",
   "version": "3.7.4"
  }
 },
 "nbformat": 4,
 "nbformat_minor": 4
}
